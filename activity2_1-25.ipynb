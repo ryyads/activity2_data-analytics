{
 "cells": [
  {
   "cell_type": "markdown",
   "id": "a71e903d-f05f-431b-8484-825e5fb03fd2",
   "metadata": {},
   "source": [
    "<h1>ACTIVITY 2 - ACCIDENT DATES DATA ANALYTICS PROJECT(1-25)</h1>\n",
    "<hr>"
   ]
  },
  {
   "cell_type": "markdown",
   "id": "f05995a6-6086-4aba-97b5-e095767afb87",
   "metadata": {},
   "source": [
    "<h2>Analyst: Raeven Maranan</h2>"
   ]
  },
  {
   "cell_type": "code",
   "execution_count": 1,
   "id": "53712ff6-cbcf-4172-a083-307d77568d7b",
   "metadata": {},
   "outputs": [],
   "source": [
    "import numpy as np\n",
    "import pandas as pd\n",
    "import warnings\n",
    "warnings.filterwarnings('ignore')\n",
    "import seaborn as sns\n",
    "import matplotlib.pyplot as plt\n",
    "from scipy.stats import f_oneway\n",
    "import folium\n",
    "from folium.plugins import HeatMap"
   ]
  },
  {
   "cell_type": "code",
   "execution_count": 2,
   "id": "6df3bdf8-a675-43ee-bdf6-443f92dfcb27",
   "metadata": {},
   "outputs": [],
   "source": [
    "acci=pd.read_csv('accident_data.csv')"
   ]
  },
  {
   "cell_type": "code",
   "execution_count": 3,
   "id": "845532ca-fac5-4d5d-9ac0-9100b07f89bd",
   "metadata": {},
   "outputs": [
    {
     "data": {
      "text/html": [
       "<div>\n",
       "<style scoped>\n",
       "    .dataframe tbody tr th:only-of-type {\n",
       "        vertical-align: middle;\n",
       "    }\n",
       "\n",
       "    .dataframe tbody tr th {\n",
       "        vertical-align: top;\n",
       "    }\n",
       "\n",
       "    .dataframe thead th {\n",
       "        text-align: right;\n",
       "    }\n",
       "</style>\n",
       "<table border=\"1\" class=\"dataframe\">\n",
       "  <thead>\n",
       "    <tr style=\"text-align: right;\">\n",
       "      <th></th>\n",
       "      <th>Index</th>\n",
       "      <th>Accident_Severity</th>\n",
       "      <th>Accident Date</th>\n",
       "      <th>Latitude</th>\n",
       "      <th>Light_Conditions</th>\n",
       "      <th>District Area</th>\n",
       "      <th>Longitude</th>\n",
       "      <th>Number_of_Casualties</th>\n",
       "      <th>Number_of_Vehicles</th>\n",
       "      <th>Road_Surface_Conditions</th>\n",
       "      <th>Road_Type</th>\n",
       "      <th>Urban_or_Rural_Area</th>\n",
       "      <th>Weather_Conditions</th>\n",
       "      <th>Vehicle_Type</th>\n",
       "    </tr>\n",
       "  </thead>\n",
       "  <tbody>\n",
       "    <tr>\n",
       "      <th>0</th>\n",
       "      <td>200701BS64157</td>\n",
       "      <td>Serious</td>\n",
       "      <td>05/06/2019</td>\n",
       "      <td>51.506187</td>\n",
       "      <td>Darkness - lights lit</td>\n",
       "      <td>Kensington and Chelsea</td>\n",
       "      <td>-0.209082</td>\n",
       "      <td>1</td>\n",
       "      <td>2</td>\n",
       "      <td>Dry</td>\n",
       "      <td>Single carriageway</td>\n",
       "      <td>Urban</td>\n",
       "      <td>Fine no high winds</td>\n",
       "      <td>Car</td>\n",
       "    </tr>\n",
       "    <tr>\n",
       "      <th>1</th>\n",
       "      <td>200701BS65737</td>\n",
       "      <td>Serious</td>\n",
       "      <td>02/07/2019</td>\n",
       "      <td>51.495029</td>\n",
       "      <td>Daylight</td>\n",
       "      <td>Kensington and Chelsea</td>\n",
       "      <td>-0.173647</td>\n",
       "      <td>1</td>\n",
       "      <td>2</td>\n",
       "      <td>Wet or damp</td>\n",
       "      <td>Single carriageway</td>\n",
       "      <td>Urban</td>\n",
       "      <td>Raining no high winds</td>\n",
       "      <td>Car</td>\n",
       "    </tr>\n",
       "    <tr>\n",
       "      <th>2</th>\n",
       "      <td>200701BS66127</td>\n",
       "      <td>Serious</td>\n",
       "      <td>26/08/2019</td>\n",
       "      <td>51.517715</td>\n",
       "      <td>Darkness - lighting unknown</td>\n",
       "      <td>Kensington and Chelsea</td>\n",
       "      <td>-0.210215</td>\n",
       "      <td>1</td>\n",
       "      <td>3</td>\n",
       "      <td>Dry</td>\n",
       "      <td>NaN</td>\n",
       "      <td>Urban</td>\n",
       "      <td>NaN</td>\n",
       "      <td>Taxi/Private hire car</td>\n",
       "    </tr>\n",
       "    <tr>\n",
       "      <th>3</th>\n",
       "      <td>200701BS66128</td>\n",
       "      <td>Serious</td>\n",
       "      <td>16/08/2019</td>\n",
       "      <td>51.495478</td>\n",
       "      <td>Daylight</td>\n",
       "      <td>Kensington and Chelsea</td>\n",
       "      <td>-0.202731</td>\n",
       "      <td>1</td>\n",
       "      <td>4</td>\n",
       "      <td>Dry</td>\n",
       "      <td>Single carriageway</td>\n",
       "      <td>Urban</td>\n",
       "      <td>Fine no high winds</td>\n",
       "      <td>Bus or coach (17 or more pass seats)</td>\n",
       "    </tr>\n",
       "    <tr>\n",
       "      <th>4</th>\n",
       "      <td>200701BS66837</td>\n",
       "      <td>Slight</td>\n",
       "      <td>03/09/2019</td>\n",
       "      <td>51.488576</td>\n",
       "      <td>Darkness - lights lit</td>\n",
       "      <td>Kensington and Chelsea</td>\n",
       "      <td>-0.192487</td>\n",
       "      <td>1</td>\n",
       "      <td>2</td>\n",
       "      <td>Dry</td>\n",
       "      <td>NaN</td>\n",
       "      <td>Urban</td>\n",
       "      <td>NaN</td>\n",
       "      <td>Other vehicle</td>\n",
       "    </tr>\n",
       "    <tr>\n",
       "      <th>...</th>\n",
       "      <td>...</td>\n",
       "      <td>...</td>\n",
       "      <td>...</td>\n",
       "      <td>...</td>\n",
       "      <td>...</td>\n",
       "      <td>...</td>\n",
       "      <td>...</td>\n",
       "      <td>...</td>\n",
       "      <td>...</td>\n",
       "      <td>...</td>\n",
       "      <td>...</td>\n",
       "      <td>...</td>\n",
       "      <td>...</td>\n",
       "      <td>...</td>\n",
       "    </tr>\n",
       "    <tr>\n",
       "      <th>660674</th>\n",
       "      <td>201091NM01760</td>\n",
       "      <td>Slight</td>\n",
       "      <td>18/02/2022</td>\n",
       "      <td>57.374005</td>\n",
       "      <td>Daylight</td>\n",
       "      <td>Highland</td>\n",
       "      <td>-3.467828</td>\n",
       "      <td>2</td>\n",
       "      <td>1</td>\n",
       "      <td>Dry</td>\n",
       "      <td>Single carriageway</td>\n",
       "      <td>Rural</td>\n",
       "      <td>Fine no high winds</td>\n",
       "      <td>Car</td>\n",
       "    </tr>\n",
       "    <tr>\n",
       "      <th>660675</th>\n",
       "      <td>201091NM01881</td>\n",
       "      <td>Slight</td>\n",
       "      <td>21/02/2022</td>\n",
       "      <td>57.232273</td>\n",
       "      <td>Darkness - no lighting</td>\n",
       "      <td>Highland</td>\n",
       "      <td>-3.809281</td>\n",
       "      <td>1</td>\n",
       "      <td>1</td>\n",
       "      <td>Frost or ice</td>\n",
       "      <td>Single carriageway</td>\n",
       "      <td>Rural</td>\n",
       "      <td>Fine no high winds</td>\n",
       "      <td>Car</td>\n",
       "    </tr>\n",
       "    <tr>\n",
       "      <th>660676</th>\n",
       "      <td>201091NM01935</td>\n",
       "      <td>Slight</td>\n",
       "      <td>23/02/2022</td>\n",
       "      <td>57.585044</td>\n",
       "      <td>Daylight</td>\n",
       "      <td>Highland</td>\n",
       "      <td>-3.862727</td>\n",
       "      <td>1</td>\n",
       "      <td>3</td>\n",
       "      <td>Frost or ice</td>\n",
       "      <td>Single carriageway</td>\n",
       "      <td>Rural</td>\n",
       "      <td>Fine no high winds</td>\n",
       "      <td>Car</td>\n",
       "    </tr>\n",
       "    <tr>\n",
       "      <th>660677</th>\n",
       "      <td>201091NM01964</td>\n",
       "      <td>Serious</td>\n",
       "      <td>23/02/2022</td>\n",
       "      <td>57.214898</td>\n",
       "      <td>Darkness - no lighting</td>\n",
       "      <td>Highland</td>\n",
       "      <td>-3.823997</td>\n",
       "      <td>1</td>\n",
       "      <td>2</td>\n",
       "      <td>Wet or damp</td>\n",
       "      <td>Single carriageway</td>\n",
       "      <td>Rural</td>\n",
       "      <td>Fine no high winds</td>\n",
       "      <td>Motorcycle over 500cc</td>\n",
       "    </tr>\n",
       "    <tr>\n",
       "      <th>660678</th>\n",
       "      <td>201091NM02142</td>\n",
       "      <td>Serious</td>\n",
       "      <td>28/02/2022</td>\n",
       "      <td>57.575210</td>\n",
       "      <td>Daylight</td>\n",
       "      <td>Highland</td>\n",
       "      <td>-3.895673</td>\n",
       "      <td>1</td>\n",
       "      <td>1</td>\n",
       "      <td>Wet or damp</td>\n",
       "      <td>Dual carriageway</td>\n",
       "      <td>Rural</td>\n",
       "      <td>Snowing no high winds</td>\n",
       "      <td>Car</td>\n",
       "    </tr>\n",
       "  </tbody>\n",
       "</table>\n",
       "<p>660679 rows × 14 columns</p>\n",
       "</div>"
      ],
      "text/plain": [
       "                Index Accident_Severity Accident Date   Latitude  \\\n",
       "0       200701BS64157           Serious    05/06/2019  51.506187   \n",
       "1       200701BS65737           Serious    02/07/2019  51.495029   \n",
       "2       200701BS66127           Serious    26/08/2019  51.517715   \n",
       "3       200701BS66128           Serious    16/08/2019  51.495478   \n",
       "4       200701BS66837            Slight    03/09/2019  51.488576   \n",
       "...               ...               ...           ...        ...   \n",
       "660674  201091NM01760            Slight    18/02/2022  57.374005   \n",
       "660675  201091NM01881            Slight    21/02/2022  57.232273   \n",
       "660676  201091NM01935            Slight    23/02/2022  57.585044   \n",
       "660677  201091NM01964           Serious    23/02/2022  57.214898   \n",
       "660678  201091NM02142           Serious    28/02/2022  57.575210   \n",
       "\n",
       "                   Light_Conditions           District Area  Longitude  \\\n",
       "0             Darkness - lights lit  Kensington and Chelsea  -0.209082   \n",
       "1                          Daylight  Kensington and Chelsea  -0.173647   \n",
       "2       Darkness - lighting unknown  Kensington and Chelsea  -0.210215   \n",
       "3                          Daylight  Kensington and Chelsea  -0.202731   \n",
       "4             Darkness - lights lit  Kensington and Chelsea  -0.192487   \n",
       "...                             ...                     ...        ...   \n",
       "660674                     Daylight                Highland  -3.467828   \n",
       "660675       Darkness - no lighting                Highland  -3.809281   \n",
       "660676                     Daylight                Highland  -3.862727   \n",
       "660677       Darkness - no lighting                Highland  -3.823997   \n",
       "660678                     Daylight                Highland  -3.895673   \n",
       "\n",
       "        Number_of_Casualties  Number_of_Vehicles Road_Surface_Conditions  \\\n",
       "0                          1                   2                     Dry   \n",
       "1                          1                   2             Wet or damp   \n",
       "2                          1                   3                     Dry   \n",
       "3                          1                   4                     Dry   \n",
       "4                          1                   2                     Dry   \n",
       "...                      ...                 ...                     ...   \n",
       "660674                     2                   1                     Dry   \n",
       "660675                     1                   1            Frost or ice   \n",
       "660676                     1                   3            Frost or ice   \n",
       "660677                     1                   2             Wet or damp   \n",
       "660678                     1                   1             Wet or damp   \n",
       "\n",
       "                 Road_Type Urban_or_Rural_Area     Weather_Conditions  \\\n",
       "0       Single carriageway               Urban     Fine no high winds   \n",
       "1       Single carriageway               Urban  Raining no high winds   \n",
       "2                      NaN               Urban                    NaN   \n",
       "3       Single carriageway               Urban     Fine no high winds   \n",
       "4                      NaN               Urban                    NaN   \n",
       "...                    ...                 ...                    ...   \n",
       "660674  Single carriageway               Rural     Fine no high winds   \n",
       "660675  Single carriageway               Rural     Fine no high winds   \n",
       "660676  Single carriageway               Rural     Fine no high winds   \n",
       "660677  Single carriageway               Rural     Fine no high winds   \n",
       "660678    Dual carriageway               Rural  Snowing no high winds   \n",
       "\n",
       "                                Vehicle_Type  \n",
       "0                                        Car  \n",
       "1                                        Car  \n",
       "2                      Taxi/Private hire car  \n",
       "3       Bus or coach (17 or more pass seats)  \n",
       "4                              Other vehicle  \n",
       "...                                      ...  \n",
       "660674                                   Car  \n",
       "660675                                   Car  \n",
       "660676                                   Car  \n",
       "660677                 Motorcycle over 500cc  \n",
       "660678                                   Car  \n",
       "\n",
       "[660679 rows x 14 columns]"
      ]
     },
     "execution_count": 3,
     "metadata": {},
     "output_type": "execute_result"
    }
   ],
   "source": [
    "acci"
   ]
  },
  {
   "cell_type": "code",
   "execution_count": 4,
   "id": "b433a14c-9882-4e2e-943b-5b4b70ed657a",
   "metadata": {},
   "outputs": [],
   "source": [
    "acci['Accident Date'] = pd.to_datetime(acci['Accident Date'], dayfirst=True)"
   ]
  },
  {
   "cell_type": "markdown",
   "id": "c0e00ffc-8602-4584-a8d0-6117408a9df5",
   "metadata": {},
   "source": [
    "<h1>1) How many accidents are recorded each year, and which year had the highest accident count?</h1>\n",
    "<hr>"
   ]
  },
  {
   "cell_type": "code",
   "execution_count": 5,
   "id": "ef16694c-2910-4129-9adf-ac55eb18b7be",
   "metadata": {},
   "outputs": [
    {
     "name": "stdout",
     "output_type": "stream",
     "text": [
      "Year\n",
      "2019    182115\n",
      "2020    170591\n",
      "2021    163554\n",
      "2022    144419\n",
      "dtype: int64\n",
      "Year with most accidents: 2019\n"
     ]
    }
   ],
   "source": [
    "acci['Year'] = acci['Accident Date'].dt.year\n",
    "acci_per_year = acci.groupby('Year').size()\n",
    "print(acci_per_year)\n",
    "print(\"Year with most accidents:\", acci_per_year.idxmax())"
   ]
  },
  {
   "cell_type": "code",
   "execution_count": 6,
   "id": "a89cf0f4-4bf5-45a4-b9a9-cef51526798f",
   "metadata": {},
   "outputs": [
    {
     "data": {
      "image/png": "[encoded data removed]",
      "text/plain": [
       "<Figure size 640x480 with 1 Axes>"
      ]
     },
     "metadata": {},
     "output_type": "display_data"
    }
   ],
   "source": [
    "acci_per_year.plot(kind='bar', title=\"Accidents per Year\")\n",
    "plt.ylabel(\"Number of Accidents\")\n",
    "plt.show()"
   ]
  },
  {
   "cell_type": "markdown",
   "id": "b213c337-56c1-40ba-b5f1-1050b90800f2",
   "metadata": {},
   "source": [
    "<h2>insight 1</h2>\n",
    "<h4>according to the data set in the year 2019 there were 182115 accidents,\n",
    "2020 had 170591,2021 had 163554, and 2022 had 144419 making 2019 the have th ehighest accident count</h4> "
   ]
  },
  {
   "cell_type": "markdown",
   "id": "946f7e5e-6a8c-4428-b8a0-ffb02401eaaf",
   "metadata": {},
   "source": [
    "<h1>2)What percentage of all accidents are classified as “Serious” or “Fatal”?</h1>\n",
    "<hr>"
   ]
  },
  {
   "cell_type": "code",
   "execution_count": 7,
   "id": "8476945d-5504-4ae8-ab95-41185a3ca457",
   "metadata": {},
   "outputs": [
    {
     "name": "stdout",
     "output_type": "stream",
     "text": [
      "Serious or Fatal accidents: 14.66%\n"
     ]
    }
   ],
   "source": [
    "serious_fatal = acci[acci['Accident_Severity'].isin(['Serious','Fatal'])]\n",
    "percentage_sf = (len(serious_fatal) / len(acci)) * 100\n",
    "print(f\"Serious or Fatal accidents: {percentage_sf:.2f}%\")"
   ]
  },
  {
   "cell_type": "markdown",
   "id": "cc2b6338-c24a-42f8-b12b-c0e071a826fc",
   "metadata": {},
   "source": [
    "<h2>insight 2</h2>\n",
    "<h4>according to the data set th eprecentage of serious or fatal accidents 14.66% </h4> "
   ]
  },
  {
   "cell_type": "markdown",
   "id": "8dd0ec4d-0eba-47bc-9000-fe5455357e58",
   "metadata": {},
   "source": [
    "<h1>3) What is the average number of casualties per accident, broken down by accident severity?</h1>\n",
    "<hr>"
   ]
  },
  {
   "cell_type": "code",
   "execution_count": 8,
   "id": "e69ea3a3-14a1-411d-9370-e9443bdf17ee",
   "metadata": {},
   "outputs": [
    {
     "data": {
      "text/plain": [
       "Accident_Severity\n",
       "Fatal      1.903129\n",
       "Serious    1.467280\n",
       "Slight     1.331402\n",
       "Name: Number_of_Casualties, dtype: float64"
      ]
     },
     "execution_count": 8,
     "metadata": {},
     "output_type": "execute_result"
    }
   ],
   "source": [
    "acci.groupby('Accident_Severity')['Number_of_Casualties'].mean()\n"
   ]
  },
  {
   "cell_type": "markdown",
   "id": "7d2eaa08-44fe-487f-b92e-8e6fe19872e5",
   "metadata": {},
   "source": [
    "<h2>insight 3</h2>\n",
    "<h4>according to the data set the average for Fatal is 1.90,\n",
    "Serious is 1.46, and Slight is 1.331402 </h4> "
   ]
  },
  {
   "cell_type": "code",
   "execution_count": null,
   "id": "7c9db8a6-2e55-41ac-8f85-3e585cd8312c",
   "metadata": {},
   "outputs": [],
   "source": []
  },
  {
   "cell_type": "markdown",
   "id": "5836aa9c-2b9e-4cf8-a64b-d9b643c8009f",
   "metadata": {},
   "source": [
    "<h1>4)What is the average number of vehicles involved per accident, broken down by road type?</h1>\n",
    "<hr>"
   ]
  },
  {
   "cell_type": "code",
   "execution_count": 9,
   "id": "2588d33c-6ad6-430f-8708-9f6cd6b85cef",
   "metadata": {},
   "outputs": [
    {
     "data": {
      "text/plain": [
       "Road_Type\n",
       "Dual carriageway      2.009766\n",
       "One way street        1.585441\n",
       "Roundabout            1.901323\n",
       "Single carriageway    1.795911\n",
       "Slip road             1.917483\n",
       "Name: Number_of_Vehicles, dtype: float64"
      ]
     },
     "execution_count": 9,
     "metadata": {},
     "output_type": "execute_result"
    }
   ],
   "source": [
    "acci.groupby('Road_Type')['Number_of_Vehicles'].mean()"
   ]
  },
  {
   "cell_type": "markdown",
   "id": "c2b792a5-5c59-4d67-abb7-6497a3c2997c",
   "metadata": {},
   "source": [
    "<h2>insight 4</h2>\n",
    "<h4>according to the data set the average no of vehicles broken down by road type is;Dual carriageway-2.009766,\n",
    "One way street-1.58, Roundabout-1.90, Single carriageway-1.79, and Slip road-1.91- </h4> "
   ]
  },
  {
   "cell_type": "markdown",
   "id": "06ac1cc8-3da9-4366-9c9d-bb8928417268",
   "metadata": {},
   "source": [
    "<h1>5)Wwhich district area has the widest range?\n",
    "</h1>\n",
    "<hr>"
   ]
  },
  {
   "cell_type": "code",
   "execution_count": 10,
   "id": "b7ea7816-e027-44a5-8a80-38d0f72547c3",
   "metadata": {},
   "outputs": [
    {
     "name": "stdout",
     "output_type": "stream",
     "text": [
      "widest casualty range: South Bucks range: 67\n"
     ]
    }
   ],
   "source": [
    "range_by_area = acci.groupby('District Area')['Number_of_Casualties'].agg(lambda x: x.max()-x.min())\n",
    "print(\"widest casualty range:\", range_by_area.idxmax(), \"range:\", range_by_area.max())"
   ]
  },
  {
   "cell_type": "markdown",
   "id": "18e647a6-1bb7-4ba6-a9ef-7a5142f22211",
   "metadata": {},
   "source": [
    "<h2>insight 5</h2>\n",
    "<h4>according to the data set the district with widest casualty rangeis South Bucks with the range of 67</h4> "
   ]
  },
  {
   "cell_type": "markdown",
   "id": "dae3fc39-22f8-44ff-9cb9-a56abe032fc3",
   "metadata": {},
   "source": [
    "<h1>6) Which top 5 district areas have the highest number of accidents, and their combined percentage?\n",
    "</h1>\n",
    "<hr>"
   ]
  },
  {
   "cell_type": "code",
   "execution_count": 11,
   "id": "2622fa54-2527-4d99-b37e-852c719ccc4b",
   "metadata": {},
   "outputs": [
    {
     "data": {
      "text/plain": [
       "District Area\n",
       "Birmingham    13491\n",
       "Leeds          8898\n",
       "Manchester     6720\n",
       "Bradford       6212\n",
       "Sheffield      5710\n",
       "Name: count, dtype: int64"
      ]
     },
     "execution_count": 11,
     "metadata": {},
     "output_type": "execute_result"
    }
   ],
   "source": [
    "top5_districts = acci['District Area'].value_counts().head(5)\n",
    "top5_districts\n"
   ]
  },
  {
   "cell_type": "code",
   "execution_count": 12,
   "id": "e4dda55c-5f4f-4e59-90b2-c438cd492cd8",
   "metadata": {},
   "outputs": [
    {
     "data": {
      "image/png": "[encoded data removed]",
      "text/plain": [
       "<Figure size 640x480 with 1 Axes>"
      ]
     },
     "metadata": {},
     "output_type": "display_data"
    }
   ],
   "source": [
    "top5_districts.plot(kind='barh', title=\"Top 5 District Areas by Number of Accidents\")\n",
    "plt.xlabel(\"Number of Accidents\")\n",
    "plt.show()"
   ]
  },
  {
   "cell_type": "markdown",
   "id": "7352601d-b0a4-4e7f-9dd8-9774b1ef5a67",
   "metadata": {},
   "source": [
    "<h2>insight 6</h2>\n",
    "<h4>according to the data set the 5 areas with the highset no. of accidents is; Birmingham-13491, Leeds-8898, Manchester-6720, Bradford-6212,and Sheffield-5710</h4> "
   ]
  },
  {
   "cell_type": "markdown",
   "id": "1cf9779a-aff4-45f6-998c-b2ab7678b3c6",
   "metadata": {},
   "source": [
    "<h1>7)Which district has the highest average casualties per accident, compared to overall average?\n",
    "</h1>\n",
    "<hr>"
   ]
  },
  {
   "cell_type": "code",
   "execution_count": 13,
   "id": "636f2b49-923b-475b-a93a-ce8dfb0dc43c",
   "metadata": {},
   "outputs": [
    {
     "name": "stdout",
     "output_type": "stream",
     "text": [
      "highest average casualties: Blaeu Gwent Value: 1.6936936936936937\n",
      "overall average: 1.357040257068864\n"
     ]
    }
   ],
   "source": [
    "district_avg = acci.groupby('District Area')['Number_of_Casualties'].mean()\n",
    "print(\"highest average casualties:\", district_avg.idxmax(), \"Value:\", district_avg.max())\n",
    "print(\"overall average:\", acci['Number_of_Casualties'].mean())"
   ]
  },
  {
   "cell_type": "markdown",
   "id": "f3bf7314-12a0-4d0e-b34d-207dc2e8177f",
   "metadata": {},
   "source": [
    "<h2>insight 7</h2>\n",
    "<h4>according to the data set the district thats has the highest average casualties per accident compared to overall average is Blaeu Gwent with a average of 1.69</h4> "
   ]
  },
  {
   "cell_type": "markdown",
   "id": "8916063e-08c8-4cd2-9e4f-6dd42def0444",
   "metadata": {},
   "source": [
    "<h1>8) Which 3 weather conditions have the highest average casualties?\n",
    "</h1>\n",
    "<hr>"
   ]
  },
  {
   "cell_type": "code",
   "execution_count": 14,
   "id": "39a1e8b2-4fb4-4fe9-84e1-5e6d8bd1c5c4",
   "metadata": {},
   "outputs": [
    {
     "name": "stdout",
     "output_type": "stream",
     "text": [
      "Weather_Conditions\n",
      "Fog or mist             1.452948\n",
      "Snowing + high winds    1.418079\n",
      "Raining + high winds    1.416641\n",
      "Name: Number_of_Casualties, dtype: float64\n"
     ]
    }
   ],
   "source": [
    "top3_weather = acci.groupby('Weather_Conditions')['Number_of_Casualties'].mean().nlargest(3)\n",
    "print(top3_weather)"
   ]
  },
  {
   "cell_type": "code",
   "execution_count": 15,
   "id": "f1a74c9a-a7e9-46f1-a6ae-b15be5275db9",
   "metadata": {},
   "outputs": [
    {
     "data": {
      "image/png": "[encoded data removed]",
      "text/plain": [
       "<Figure size 640x480 with 1 Axes>"
      ]
     },
     "metadata": {},
     "output_type": "display_data"
    }
   ],
   "source": [
    "\n",
    "acci.groupby('Weather_Conditions')['Number_of_Casualties'].mean().sort_values().plot(kind='bar', title='Average Casualties by Weather')\n",
    "plt.xticks(rotation=45)\n",
    "plt.ylabel(\"Average Casualties\")\n",
    "plt.show()"
   ]
  },
  {
   "cell_type": "markdown",
   "id": "91c5a452-be65-441c-8ce9-6ad3c4674019",
   "metadata": {},
   "source": [
    "<h2>insight 8</h2>\n",
    "<h4>according to the data set the 3 weather conditions have the highest average casualties are; Fog or mist -1.452948, Snowing + high winds-1.418079, and Raining + high winds-1.416641</h4> "
   ]
  },
  {
   "cell_type": "markdown",
   "id": "55d5a13e-8591-473e-ba6f-0d1d791cfb6c",
   "metadata": {},
   "source": [
    "<h1>9)Which road surface condition has the highest casualty-to-vehicle ratio?\n",
    "</h1>\n",
    "<hr>"
   ]
  },
  {
   "cell_type": "code",
   "execution_count": 16,
   "id": "b6fea7f3-145b-45e1-98b0-c452837a9e0c",
   "metadata": {},
   "outputs": [
    {
     "data": {
      "text/plain": [
       "'Flood over 3cm. deep'"
      ]
     },
     "execution_count": 16,
     "metadata": {},
     "output_type": "execute_result"
    }
   ],
   "source": [
    "acci['Casualty_Vehicle_Ratio'] = acci['Number_of_Casualties'] / acci['Number_of_Vehicles']\n",
    "acci.groupby('Road_Surface_Conditions')['Casualty_Vehicle_Ratio'].mean().idxmax()"
   ]
  },
  {
   "cell_type": "markdown",
   "id": "d8856b2b-c5bb-4643-8d4e-f44b713eed78",
   "metadata": {},
   "source": [
    "<h2>insight 9</h2>\n",
    "<h4>according to the data set the road surface condition has the highest casualty-to-vehicle ratio is Flood over 3cm. deep</h4> "
   ]
  },
  {
   "cell_type": "markdown",
   "id": "98b4911e-8811-4316-bb3f-390972239659",
   "metadata": {},
   "source": [
    "<h1>10)What is the average number of casualties per severity category, grouped by urban vs rural?\n",
    "</h1>\n",
    "<hr>"
   ]
  },
  {
   "cell_type": "code",
   "execution_count": 17,
   "id": "7295805c-636d-427f-8442-ca9532986f7a",
   "metadata": {},
   "outputs": [
    {
     "name": "stdout",
     "output_type": "stream",
     "text": [
      "Urban_or_Rural_Area  Accident_Severity\n",
      "Rural                Fatal                2.094804\n",
      "                     Serious              1.682301\n",
      "                     Slight               1.422972\n",
      "Unallocated          Serious              1.000000\n",
      "                     Slight               1.200000\n",
      "Urban                Fatal                1.552288\n",
      "                     Serious              1.309693\n",
      "                     Slight               1.282586\n",
      "Name: Number_of_Casualties, dtype: float64\n"
     ]
    }
   ],
   "source": [
    "print(acci.groupby(['Urban_or_Rural_Area','Accident_Severity'])['Number_of_Casualties'].mean())"
   ]
  },
  {
   "cell_type": "markdown",
   "id": "b156ce6b-d254-4ba6-bfc4-43093398e062",
   "metadata": {},
   "source": [
    "<h2>insight 10</h2>\n",
    "<h4>according to the data set the rural areas often have higher casualty averages due to higher travel speeds and delayed emergency response./h4> "
   ]
  },
  {
   "cell_type": "markdown",
   "id": "9d195159-02c6-46df-ab56-4054c878f37b",
   "metadata": {},
   "source": [
    "<h1>11)In urban areas, what percentage of accidents happen during wet or damp roads?\n",
    "</h1>\n",
    "<hr>"
   ]
  },
  {
   "cell_type": "code",
   "execution_count": 18,
   "id": "cfdf79af-f11c-4216-8a57-77e489434295",
   "metadata": {},
   "outputs": [
    {
     "name": "stdout",
     "output_type": "stream",
     "text": [
      "25.54% of urban accidents happened on wet/damp roads\n"
     ]
    }
   ],
   "source": [
    "urban = acci[acci['Urban_or_Rural_Area'] == 'Urban']\n",
    "pct_wet_urban = (len(urban[urban['Road_Surface_Conditions']=='Wet or damp']) / len(urban))*100\n",
    "print(f\"{pct_wet_urban:.2f}% of urban accidents happened on wet/damp roads\")"
   ]
  },
  {
   "cell_type": "markdown",
   "id": "16609f41-ca33-4c9f-a4cf-f3572a00362d",
   "metadata": {},
   "source": [
    "<h2>insight 11</h2>\n",
    "<h4>according to the data set a significant part of urban accidents happens on wet roads </h4> "
   ]
  },
  {
   "cell_type": "markdown",
   "id": "2069a427-3a42-40bd-8b94-ee0a04e3d9e4",
   "metadata": {},
   "source": [
    "<h1>12)How many accidents involved more than three vehicles and happened during rain?\n",
    " </h1>\n",
    "<hr>"
   ]
  },
  {
   "cell_type": "code",
   "execution_count": 19,
   "id": "001bd5ed-a211-492d-9d36-b5c5bea8b86b",
   "metadata": {},
   "outputs": [
    {
     "data": {
      "text/plain": [
       "2147"
      ]
     },
     "execution_count": 19,
     "metadata": {},
     "output_type": "execute_result"
    }
   ],
   "source": [
    "len(acci[(acci['Number_of_Vehicles'] > 3) & (acci['Weather_Conditions'].str.contains(\"Rain\", na=False))])"
   ]
  },
  {
   "cell_type": "markdown",
   "id": "483e8f81-c186-48d1-b7bd-f75e659c6c7b",
   "metadata": {},
   "source": [
    "<h2>insight 12</h2>\n",
    "<h4>according to the data set around 2147 accidents involved more than three vehicles and happened during rain</h4> "
   ]
  },
  {
   "cell_type": "markdown",
   "id": "ba867491-3cb6-4be8-a193-871cb3a951fa",
   "metadata": {},
   "source": [
    "<h1>13)what isthe average number of casualties in accidents with less than3 vehicles\n",
    "</h1>\n",
    "<hr>"
   ]
  },
  {
   "cell_type": "code",
   "execution_count": 20,
   "id": "bfa81ee2-5561-408e-b572-2515a3a332fa",
   "metadata": {},
   "outputs": [
    {
     "data": {
      "text/plain": [
       "np.float64(2.1306739116029423)"
      ]
     },
     "execution_count": 20,
     "metadata": {},
     "output_type": "execute_result"
    }
   ],
   "source": [
    "acci[acci['Number_of_Vehicles'] > 3]['Number_of_Casualties'].mean()"
   ]
  },
  {
   "cell_type": "markdown",
   "id": "5f63d956-2b23-49c2-9b26-560f1cdfe634",
   "metadata": {},
   "source": [
    "<h2>insight 13</h2>\n",
    "<h4>according to the data set the average number of casualties in accidents with less than3 vehicles is 2.13 </h4> "
   ]
  },
  {
   "cell_type": "markdown",
   "id": "122e51a8-0200-4672-ba9a-da74bcd6a964",
   "metadata": {},
   "source": [
    "<h1>14)what is the percentage of accidents during darkness that resulted in >1 casualty\n",
    "</h1>\n",
    "<hr>"
   ]
  },
  {
   "cell_type": "code",
   "execution_count": 21,
   "id": "a6c0a8f9-f6d5-4ca5-8579-c18afc5fac4f",
   "metadata": {},
   "outputs": [
    {
     "name": "stdout",
     "output_type": "stream",
     "text": [
      "25.81%  dark accidents having more than one casualty\n"
     ]
    }
   ],
   "source": [
    "dark = acci[acci['Light_Conditions'].str.contains('Dark', case=False, na=False)]\n",
    "pct_dark_multi = (len(dark[dark['Number_of_Casualties']>1]) / len(dark))*100\n",
    "print(f\"{pct_dark_multi:.2f}%  dark accidents having more than one casualty\")"
   ]
  },
  {
   "cell_type": "markdown",
   "id": "4971a234-b8bf-4a8f-994c-d706138bf5ff",
   "metadata": {},
   "source": [
    "<h2>insight 14</h2>\n",
    "<h4>according to the data set 25.81% of the dark accidents had more than one casualty </h4> "
   ]
  },
  {
   "cell_type": "markdown",
   "id": "2bac1d30-d1c3-461c-86fd-ef4d52f6b71a",
   "metadata": {},
   "source": [
    "<h1>15) Most common weather condition among accidents with less than 2 casualtiesin comparison to fine weather\n",
    "</h1>\n",
    "<hr>"
   ]
  },
  {
   "cell_type": "code",
   "execution_count": 22,
   "id": "f59944c2-6f4d-4d2c-ae9a-716cf94e5e1e",
   "metadata": {},
   "outputs": [
    {
     "name": "stdout",
     "output_type": "stream",
     "text": [
      "Most common weather: Fine no high winds Count: 37600\n",
      "Fine weather count: 520885\n"
     ]
    }
   ],
   "source": [
    "over2 = acci[acci['Number_of_Casualties'] > 2]['Weather_Conditions'].value_counts()\n",
    "print(\"Most common weather:\", over2.idxmax(), \"Count:\", over2.max())\n",
    "print(\"Fine weather count:\", acci[acci['Weather_Conditions']=='Fine no high winds'].shape[0])"
   ]
  },
  {
   "cell_type": "markdown",
   "id": "44abe4c2-6cd5-425d-b5b9-1db8da4b3bb6",
   "metadata": {},
   "source": [
    "<h2>insight 15</h2>\n",
    "<h4>according to the data set the most common weather condition among accidents with less than 2 casualtiesin comparison to fine weather is Fine no high winds </h4> "
   ]
  },
  {
   "cell_type": "markdown",
   "id": "e50edd39-14aa-4747-a742-31439b2d1847",
   "metadata": {},
   "source": [
    "<h1>16) Which month has highest accident-to-casualty ratio?\n",
    "</h1>\n",
    "<hr>"
   ]
  },
  {
   "cell_type": "code",
   "execution_count": 23,
   "id": "d4c5f65a-1ba6-4d41-9e56-eba1f69873a5",
   "metadata": {},
   "outputs": [
    {
     "name": "stdout",
     "output_type": "stream",
     "text": [
      "Month: 8\n"
     ]
    }
   ],
   "source": [
    "acci['Month'] = acci['Accident Date'].dt.month\n",
    "ratio = acci.groupby('Month')['Number_of_Casualties'].sum() / acci.groupby('Month').size()\n",
    "print(\"Month:\", ratio.idxmax())"
   ]
  },
  {
   "cell_type": "code",
   "execution_count": 24,
   "id": "2e188c6b-c79d-48b2-92de-71d14bdd5fe3",
   "metadata": {},
   "outputs": [
    {
     "data": {
      "image/png": "[encoded data removed]",
      "text/plain": [
       "<Figure size 640x480 with 1 Axes>"
      ]
     },
     "metadata": {},
     "output_type": "display_data"
    }
   ],
   "source": [
    "ratio.plot(kind='line', marker='o', title=\"Monthly Casualty-to-Accident Ratio\")\n",
    "plt.ylabel(\"Casualty per Accident\")\n",
    "plt.grid()\n",
    "plt.show()\n"
   ]
  },
  {
   "cell_type": "markdown",
   "id": "ef9b740a-466d-4a2c-ae59-7e59affda68d",
   "metadata": {},
   "source": [
    "<h2>insight 16</h2>\n",
    "<h4>according to the data set the month that has highest accident-to-casualty ratio is month 8 or August </h4> "
   ]
  },
  {
   "cell_type": "markdown",
   "id": "764e2fa1-b18c-4d53-bfb1-5aab2d2cf4a9",
   "metadata": {},
   "source": [
    "<h1>17)Which quarter of the year has the most accidents?\n",
    "</h1>\n",
    "<hr>"
   ]
  },
  {
   "cell_type": "code",
   "execution_count": 25,
   "id": "4f051c67-3898-4834-81f4-356717332a7d",
   "metadata": {},
   "outputs": [
    {
     "data": {
      "text/plain": [
       "np.int32(4)"
      ]
     },
     "execution_count": 25,
     "metadata": {},
     "output_type": "execute_result"
    }
   ],
   "source": [
    "acci['Quarter'] = acci['Accident Date'].dt.quarter\n",
    "acci['Quarter'].value_counts().idxmax()"
   ]
  },
  {
   "cell_type": "markdown",
   "id": "d01a6360-62a9-4883-a8ab-b3dc94980ed3",
   "metadata": {},
   "source": [
    "<h2>insight 17</h2>\n",
    "<h4>according to the data set the quarter of the year has the most accidents is month 4 or april </h4> "
   ]
  },
  {
   "cell_type": "markdown",
   "id": "eb9060fc-3b19-4538-a2f4-4e07e74a9626",
   "metadata": {},
   "source": [
    "<h1>18)Is there an upward or downward trend month-over-month?\n",
    "</h1>\n",
    "<hr>"
   ]
  },
  {
   "cell_type": "code",
   "execution_count": 26,
   "id": "67d1afcd-52f0-48b9-aa01-e8f743ef606a",
   "metadata": {},
   "outputs": [
    {
     "data": {
      "image/png": "[encoded data removed]",
      "text/plain": [
       "<Figure size 640x480 with 1 Axes>"
      ]
     },
     "metadata": {},
     "output_type": "display_data"
    }
   ],
   "source": [
    "monthly_trend = acci.groupby(['Year','Month']).size()\n",
    "monthly_trend.plot(kind='line', title=\"Monthly Accident Trend\")\n",
    "plt.ylabel(\"Number of Accidents\")\n",
    "plt.show()"
   ]
  },
  {
   "cell_type": "markdown",
   "id": "a06eb819-1b44-4627-a852-11043f5ebf9c",
   "metadata": {},
   "source": [
    "<h2>insight 18</h2>\n",
    "<h4>according to the data set there is an upward and downward trend in over a year and month</h4> "
   ]
  },
  {
   "cell_type": "markdown",
   "id": "17bbde72-2d88-43cd-876d-398f77c08830",
   "metadata": {},
   "source": [
    "<h1>19)Which day of the week has the highest average casualties per accident?\n",
    "</h1>\n",
    "<hr>"
   ]
  },
  {
   "cell_type": "code",
   "execution_count": 27,
   "id": "1ab096b5-e6ea-40ac-87a1-f9aabf4aeb10",
   "metadata": {},
   "outputs": [
    {
     "name": "stdout",
     "output_type": "stream",
     "text": [
      "DayOfWeek\n",
      "Monday       1.465685\n",
      "Sunday       1.423272\n",
      "Saturday     1.350977\n",
      "Tuesday      1.331793\n",
      "Friday       1.323238\n",
      "Thursday     1.321160\n",
      "Wednesday    1.317925\n",
      "Name: Number_of_Casualties, dtype: float64\n"
     ]
    }
   ],
   "source": [
    "acci['DayOfWeek'] = acci['Accident Date'].dt.day_name()\n",
    "print(acci.groupby('DayOfWeek')['Number_of_Casualties'].mean().sort_values(ascending=False))"
   ]
  },
  {
   "cell_type": "markdown",
   "id": "73dfa7fb-3ad1-45ee-afd1-ea1a8d750848",
   "metadata": {},
   "source": [
    "<h2>insight 19</h2>\n",
    "<h4>according to the data set the day of the week that has the highest average casualties per accident is monday with 1.46</h4> "
   ]
  },
  {
   "cell_type": "markdown",
   "id": "f1ff0184-351c-4e3a-89e0-dbfb7e7da7af",
   "metadata": {},
   "source": [
    "<h1>20) is there a correlation between number of vehicles & casualties?\n",
    "</h1>\n",
    "<hr>"
   ]
  },
  {
   "cell_type": "code",
   "execution_count": 28,
   "id": "6501fa12-2132-4666-9880-d1fbef669e05",
   "metadata": {},
   "outputs": [
    {
     "name": "stdout",
     "output_type": "stream",
     "text": [
      "                      Number_of_Vehicles  Number_of_Casualties\n",
      "Number_of_Vehicles              1.000000              0.228889\n",
      "Number_of_Casualties            0.228889              1.000000\n"
     ]
    }
   ],
   "source": [
    "corr_matrix = acci[['Number_of_Vehicles','Number_of_Casualties']].corr()\n",
    "print(corr_matrix)"
   ]
  },
  {
   "cell_type": "code",
   "execution_count": 29,
   "id": "bfad5d42-d9e8-47b6-99f3-2f09728065d4",
   "metadata": {},
   "outputs": [
    {
     "data": {
      "image/png": "[encoded data removed]",
      "text/plain": [
       "<Figure size 640x480 with 2 Axes>"
      ]
     },
     "metadata": {},
     "output_type": "display_data"
    }
   ],
   "source": [
    "sns.heatmap(corr_matrix, annot=True, cmap=\"coolwarm\")\n",
    "plt.title(\"Correlation Between Vehicles and Casualties\")\n",
    "plt.show()"
   ]
  },
  {
   "cell_type": "markdown",
   "id": "d015a2c1-b81d-4cbb-ae5e-f1dd43cdbce9",
   "metadata": {},
   "source": [
    "<h2>insight 20</h2>\n",
    "<h4>according to the data set there is apositive correlation that shows that multi-vehicle accidents usually lead to more casualties</h4> "
   ]
  },
  {
   "cell_type": "markdown",
   "id": "5654d148-327c-4a17-9edc-a39700ed443a",
   "metadata": {},
   "source": [
    "<h1>21)Compare casualties on dry vs wet roads\n",
    "</h1>\n",
    "<hr>"
   ]
  },
  {
   "cell_type": "code",
   "execution_count": 30,
   "id": "ded26e90-d1dc-4caf-b8b2-4f0b56924bba",
   "metadata": {},
   "outputs": [
    {
     "data": {
      "text/plain": [
       "Road_Surface_Conditions\n",
       "Dry                     1.334736\n",
       "Flood over 3cm. deep    1.495575\n",
       "Frost or ice            1.348815\n",
       "Snow                    1.359593\n",
       "Wet or damp             1.411064\n",
       "Name: Number_of_Casualties, dtype: float64"
      ]
     },
     "execution_count": 30,
     "metadata": {},
     "output_type": "execute_result"
    }
   ],
   "source": [
    "acci.groupby('Road_Surface_Conditions')['Number_of_Casualties'].mean()"
   ]
  },
  {
   "cell_type": "markdown",
   "id": "073d24d9-50da-478c-8974-7c92916b26e1",
   "metadata": {},
   "source": [
    "<h2>insight 21</h2>\n",
    "<h4>according to the data set casualties are higher on wet roads</h4> "
   ]
  },
  {
   "cell_type": "markdown",
   "id": "69a616e3-1eee-4ce5-8678-44d8f0d5559d",
   "metadata": {},
   "source": [
    "<h1>22)waht is the relationship between weather and number of vehicles involved?\n",
    "</h1>\n",
    "<hr>"
   ]
  },
  {
   "cell_type": "code",
   "execution_count": 31,
   "id": "616e6ab9-c505-496f-9bfa-e3e4967979b7",
   "metadata": {},
   "outputs": [
    {
     "name": "stdout",
     "output_type": "stream",
     "text": [
      "Weather_Conditions\n",
      "Fine no high winds       1.836809\n",
      "Raining no high winds    1.831610\n",
      "Fog or mist              1.807823\n",
      "Fine + high winds        1.779401\n",
      "Raining + high winds     1.777951\n",
      "Other                    1.777668\n",
      "Snowing no high winds    1.754889\n",
      "Snowing + high winds     1.737853\n",
      "Name: Number_of_Vehicles, dtype: float64\n"
     ]
    }
   ],
   "source": [
    "print(acci.groupby('Weather_Conditions')['Number_of_Vehicles'].mean().sort_values(ascending=False))"
   ]
  },
  {
   "cell_type": "code",
   "execution_count": 32,
   "id": "0a9a6d15-4ba8-4475-a882-98d9710afd06",
   "metadata": {},
   "outputs": [
    {
     "data": {
      "image/png": "[encoded data removed]",
      "text/plain": [
       "<Figure size 640x480 with 1 Axes>"
      ]
     },
     "metadata": {},
     "output_type": "display_data"
    }
   ],
   "source": [
    "acci.groupby('Weather_Conditions')['Number_of_Vehicles'].mean().plot(kind='bar', title=\"Average Vehicles per Accident by Weather\")\n",
    "plt.xticks(rotation=45)\n",
    "plt.ylabel(\"Average Number of Vehicles\")\n",
    "plt.show()"
   ]
  },
  {
   "cell_type": "markdown",
   "id": "daeb0505-9a3c-461f-a684-e7d726249746",
   "metadata": {},
   "source": [
    "<h2>insight 22</h2>\n",
    "<h4>according to the data setthe relationship between weather and number of vehicles involved depend on the weather types (fog/rain) that leads to more multi-vehicle accidents</h4> "
   ]
  },
  {
   "cell_type": "markdown",
   "id": "6919b0a4-c6e6-402a-ac25-72b55ca72835",
   "metadata": {},
   "source": [
    "<h1>23)what vehicle type with highest average casualties per accident?\n",
    "</h1>\n",
    "<hr>"
   ]
  },
  {
   "cell_type": "code",
   "execution_count": 33,
   "id": "9d031085-a9ea-4299-80e8-6b03c6a3e1e9",
   "metadata": {},
   "outputs": [
    {
     "name": "stdout",
     "output_type": "stream",
     "text": [
      "Vehicle_Type\n",
      "Car                                      75.391730\n",
      "Van / Goods 3.5 tonnes mgw or under       5.182807\n",
      "Motorcycle over 500cc                     3.918330\n",
      "Bus or coach (17 or more pass seats)      3.817172\n",
      "Goods 7.5 tonnes mgw and over             2.618758\n",
      "Motorcycle 125cc and under                2.291542\n",
      "Taxi/Private hire car                     1.988067\n",
      "Motorcycle over 125cc and up to 500cc     1.155061\n",
      "Motorcycle 50cc and under                 1.144739\n",
      "Goods over 3.5t. and under 7.5t           0.953777\n",
      "Other vehicle                             0.863973\n",
      "Minibus (8 - 16 passenger seats)          0.314829\n",
      "Agricultural vehicle                      0.312765\n",
      "Pedal cycle                               0.046450\n",
      "Name: proportion, dtype: float64\n"
     ]
    }
   ],
   "source": [
    "serious_fatal = acci[acci['Accident_Severity'].isin(['Serious','Fatal'])]\n",
    "veh_distribution = serious_fatal['Vehicle_Type'].value_counts(normalize=True) * 100\n",
    "print(veh_distribution)"
   ]
  },
  {
   "cell_type": "markdown",
   "id": "4e83ea47-cc16-4fae-ad92-abc91bd49cd8",
   "metadata": {},
   "source": [
    "<h2>insight 23</h2>\n",
    "<h4>according to the data set certain vehicle types like cars have the highest average with 75.39</h4> "
   ]
  },
  {
   "cell_type": "markdown",
   "id": "82a28584-70a2-45fb-8eb0-0fcf9114fe08",
   "metadata": {},
   "source": [
    "<h1>24)what road type with highest proportion of serious accidents?\n",
    "</h1>\n",
    "<hr>"
   ]
  },
  {
   "cell_type": "code",
   "execution_count": 34,
   "id": "ce4eeec2-1b26-4305-ab01-4eb28959308c",
   "metadata": {},
   "outputs": [
    {
     "name": "stdout",
     "output_type": "stream",
     "text": [
      "Road_Type\n",
      "Single carriageway    0.142355\n",
      "One way street        0.122059\n",
      "Dual carriageway      0.118140\n",
      "Slip road             0.086777\n",
      "Roundabout            0.083311\n",
      "Name: Serious, dtype: float64\n"
     ]
    }
   ],
   "source": [
    "road_counts = acci.groupby('Road_Type')['Accident_Severity'].value_counts(normalize=True).unstack()\n",
    "print(road_counts['Serious'].sort_values(ascending=False))"
   ]
  },
  {
   "cell_type": "markdown",
   "id": "274bc3f6-f382-4fbd-b449-68b39f592bfe",
   "metadata": {},
   "source": [
    "<h2>insight 24</h2>\n",
    "<h4>according to the data set the road type with highest proportion of serious accidents is Single carriageway with 0.14  </h4> "
   ]
  },
  {
   "cell_type": "markdown",
   "id": "28843972-aef3-488d-af21-65e1d2b62806",
   "metadata": {},
   "source": [
    "<h1>25) what is the most common combination of road surface, weather, and light condition?\n",
    "</h1>\n",
    "<hr>"
   ]
  },
  {
   "cell_type": "code",
   "execution_count": 35,
   "id": "f1290980-08cc-4953-895a-05319e3bd3c1",
   "metadata": {},
   "outputs": [
    {
     "data": {
      "text/plain": [
       "('Dry', 'Fine no high winds', 'Daylight')"
      ]
     },
     "execution_count": 35,
     "metadata": {},
     "output_type": "execute_result"
    }
   ],
   "source": [
    "acci.groupby(['Road_Surface_Conditions','Weather_Conditions','Light_Conditions']).size().idxmax()"
   ]
  },
  {
   "cell_type": "markdown",
   "id": "92320c51-7c91-405c-a6ba-945d49072c9d",
   "metadata": {},
   "source": [
    "<h2>insight 25</h2>\n",
    "<h4>according to the data set the most common combination of road surface, weather, and light condition is 'Dry', 'Fine no high winds', and 'Daylight'   </h4> \n"
   ]
  }
 ],
 "metadata": {
  "kernelspec": {
   "display_name": "Python 3 (ipykernel)",
   "language": "python",
   "name": "python3"
  },
  "language_info": {
   "codemirror_mode": {
    "name": "ipython",
    "version": 3
   },
   "file_extension": ".py",
   "mimetype": "text/x-python",
   "name": "python",
   "nbconvert_exporter": "python",
   "pygments_lexer": "ipython3",
   "version": "3.13.7"
  }
 },
 "nbformat": 4,
 "nbformat_minor": 5
}
